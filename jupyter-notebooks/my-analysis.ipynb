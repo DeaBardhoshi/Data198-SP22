{
 "cells": [
  {
   "cell_type": "code",
   "execution_count": 1,
   "id": "60103ccd",
   "metadata": {},
   "outputs": [],
   "source": [
    "# Markdown for first assignment in Data 198"
   ]
  },
  {
   "cell_type": "code",
   "execution_count": 3,
   "id": "a50ccb2c",
   "metadata": {},
   "outputs": [],
   "source": [
    "# Name: Dea Bardhoshi "
   ]
  },
  {
   "cell_type": "code",
   "execution_count": 4,
   "id": "d495d771",
   "metadata": {},
   "outputs": [
    {
     "data": {
      "text/plain": [
       "2"
      ]
     },
     "execution_count": 4,
     "metadata": {},
     "output_type": "execute_result"
    }
   ],
   "source": [
    "1+1"
   ]
  },
  {
   "cell_type": "code",
   "execution_count": 5,
   "id": "6a8f02c6",
   "metadata": {},
   "outputs": [
    {
     "data": {
      "text/plain": [
       "100000000000000"
      ]
     },
     "execution_count": 5,
     "metadata": {},
     "output_type": "execute_result"
    }
   ],
   "source": [
    "100**7"
   ]
  },
  {
   "cell_type": "code",
   "execution_count": null,
   "id": "8a69d7b0",
   "metadata": {},
   "outputs": [],
   "source": []
  }
 ],
 "metadata": {
  "kernelspec": {
   "display_name": "Python 3 (ipykernel)",
   "language": "python",
   "name": "python3"
  },
  "language_info": {
   "codemirror_mode": {
    "name": "ipython",
    "version": 3
   },
   "file_extension": ".py",
   "mimetype": "text/x-python",
   "name": "python",
   "nbconvert_exporter": "python",
   "pygments_lexer": "ipython3",
   "version": "3.9.7"
  }
 },
 "nbformat": 4,
 "nbformat_minor": 5
}
